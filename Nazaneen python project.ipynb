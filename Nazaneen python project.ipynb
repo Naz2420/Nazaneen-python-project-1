{
 "cells": [
  {
   "cell_type": "code",
   "execution_count": 14,
   "id": "d541031a-99cc-413d-9ac9-d86bf8a630be",
   "metadata": {},
   "outputs": [
    {
     "name": "stdin",
     "output_type": "stream",
     "text": [
      "What's your age?  10\n"
     ]
    },
    {
     "name": "stdout",
     "output_type": "stream",
     "text": [
      "Please choose time unit: Months, Weeks, Days, Hours, Minutes, Seconds\n"
     ]
    },
    {
     "name": "stdin",
     "output_type": "stream",
     "text": [
      "Enter your chosen time unit:  Hours\n"
     ]
    },
    {
     "name": "stdout",
     "output_type": "stream",
     "text": [
      "You have lived for 87600 Hours.\n"
     ]
    }
   ],
   "source": [
    "if __name__ == \"__main__\":\n",
    "    main_program()\n",
    "\n",
    "def calculate_duration(age):\n",
    "    # Define Months,Weeks,Days,Hours,Minutes,Seconds per year \n",
    "    months_per_year = 12\n",
    "    weeks_per_year = 52\n",
    "    days_per_year = 365\n",
    "    hours_per_day = 24\n",
    "    minutes_per_hour = 60\n",
    "    seconds_per_minute = 60\n",
    "\n",
    "    # Calculating the duration in 6 time units\n",
    "    duration_months = age * months_per_year\n",
    "    duration_weeks = age * weeks_per_year\n",
    "    duration_days = age * days_per_year\n",
    "    duration_hours = duration_days * hours_per_day\n",
    "    duration_minutes = duration_hours * minutes_per_hour\n",
    "    duration_seconds = duration_minutes * seconds_per_minute\n",
    "\n",
    "    return {\n",
    "        \"Months\": duration_months,\n",
    "        \"Weeks\": duration_weeks,\n",
    "        \"Days\": duration_days,\n",
    "        \"Hours\": duration_hours,\n",
    "        \"Minutes\": duration_minutes,\n",
    "        \"Seconds\": duration_seconds\n",
    "    }\n",
    "\n"
   ]
  },
  {
   "cell_type": "code",
   "execution_count": null,
   "id": "8aeee04c-7b9b-4143-a514-bd27d37266f5",
   "metadata": {},
   "outputs": [],
   "source": []
  },
  {
   "cell_type": "code",
   "execution_count": null,
   "id": "26e8aa60-1a12-4175-b5ae-d20b192aea4d",
   "metadata": {},
   "outputs": [],
   "source": []
  }
 ],
 "metadata": {
  "kernelspec": {
   "display_name": "Python 3 (ipykernel)",
   "language": "python",
   "name": "python3"
  },
  "language_info": {
   "codemirror_mode": {
    "name": "ipython",
    "version": 3
   },
   "file_extension": ".py",
   "mimetype": "text/x-python",
   "name": "python",
   "nbconvert_exporter": "python",
   "pygments_lexer": "ipython3",
   "version": "3.12.4"
  }
 },
 "nbformat": 4,
 "nbformat_minor": 5
}
